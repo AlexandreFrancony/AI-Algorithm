{
 "cells": [
  {
   "cell_type": "markdown",
   "metadata": {
    "id": "Ob1cXrm2PzUc"
   },
   "source": [
    "<div class='alert-block alert-info'>\n",
    "    <br>\n",
    "    <h1 align=\"center\"><b>  Lab session 4 :</b> Constraint Satisfaction Problem </h1>\n",
    "    <h3 align=\"center\">Artificial Intelligence Algorithms </h3>\n",
    "    <h5 align=\"center\">MESIIN476024</a></h5>\n",
    "    <br>\n",
    "</div>"
   ]
  },
  {
   "cell_type": "markdown",
   "metadata": {
    "id": "S4ItgX6OPzUt"
   },
   "source": [
    "#### CONTENTS\n",
    "\n",
    "<font color='black'></front>    \n",
    "\n",
    "* **Part I: CSP - Pacman's new house**\n",
    " </br>\n",
    "\n",
    "* **Part II: Implement a CSP from Scratch**\n",
    "  1. Define the CSP class\n",
    "  2. Solve the South America map coloring problem using the CSP approach\n",
    "  3. Depth First Search with Backtracking++</br>\n",
    "    3.a) Variable Selection - Minimum remaining values and Degree heuristics</br>\n",
    "    3.b) Domain Ordering - Least Constraining Value</br>\n",
    "    3.c) Forward Checking</br>\n",
    "    3.d) Constraint propagation - Arc Consistency (AC-3 Algorithm)\n",
    "  4. Min-Conflicts hill-climbing search for CSPs\n",
    " </br>\n",
    "\n",
    "<font color='black'></front>\n",
    "* **Part III: Python libraries for solving CSPs**\n",
    "  1. Or-tools library\n",
    "  2. Example: Solving a Sudoku Puzzle with OR-Tools\n",
    "  3. Exercice: Solve Pacman's new house problem using OR-Tools\n",
    "    </br>\n"
   ]
  },
  {
   "cell_type": "markdown",
   "metadata": {},
   "source": [
    "<h1 align=\"left\"> <font color='darkblue'><b> Part I - CSP: Pacman's new house </b></font></a></h1>  \n",
    "\n",
    "**Pacman's New House:** After years of struggling through mazes, Pacman has finally made peace with the ghosts, Blinky, Pinky, Inky, and Clyde, and invited them to live with him and Ms. Pacman. The move has forced Pacman to change the rooming assignments in his house, which has 6 rooms. He has decided to figure out the new assignments with a CSP in which the variables are Pacman (**P**), Ms. Pacman (**M**), Blinky (**B**), Pinky (**K**), Inky (**I**), and Clyde (**C**). The values are which room they will stay in, from $1$ to $6$, and the constraints are:\n",
    "\n",
    "   1. No two agents can stay in the same room.\n",
    "   2. $P > 3$\n",
    "   3. $K<P$\n",
    "   4. $M$ is either $5$ or $6$\n",
    "   5. $P > C$\n",
    "   6. $B$ is even\n",
    "   7. $I\\neq 1$ and $I\\neq 6$\n",
    "   8. $|I - C| = 1$\n",
    "   9. $|P - B| = 2$\n",
    "\n",
    "\n",
    "**a) Constraint Graph.** Draw the constraint graph for this problem.\n",
    "\n",
    "\n",
    "**b) Unary constraints**  On the grid below cross out the values from each domain that are eliminated by enforcing **unary constraints**.\n",
    "\n",
    "   | **Variable** | **Domain**        |\n",
    "   |--------------|-------------------|\n",
    "   | P            | 1&nbsp;&nbsp;2&nbsp;&nbsp;3&nbsp;&nbsp;4 &nbsp;5 &nbsp;6|\n",
    "   | B            | 1&nbsp;&nbsp;2&nbsp;&nbsp;3&nbsp;&nbsp;4 &nbsp;5 &nbsp;6|\n",
    "   | C            | 1&nbsp;&nbsp;2&nbsp;&nbsp;3&nbsp;&nbsp;4  &nbsp;5 &nbsp;6|\n",
    "   | K            | 1&nbsp;&nbsp;2&nbsp;&nbsp;3&nbsp;&nbsp;4  &nbsp;5 &nbsp;6|\n",
    "   | I            | 1&nbsp;&nbsp;2&nbsp;&nbsp;3&nbsp;&nbsp;4  &nbsp;5 &nbsp;6|\n",
    "   | M            | 1&nbsp;&nbsp;2&nbsp;&nbsp;3&nbsp;&nbsp;4  &nbsp;5 &nbsp;6|\n",
    "\n",
    "**c) Forward Checking.**  On the grid below, now cross out the values from each domain that are eliminated by running forward checking. Assume we choose to assign $P$ first, and assign it the value 6. What are the resulting domains after enforcing unary constraints and running forward checking for this assignment?\n",
    "\n",
    "   | **Variable** | **Domain**        |\n",
    "   |--------------|-------------------|\n",
    "   | P            | &nbsp;&nbsp;&nbsp;&nbsp;&nbsp;&nbsp; &nbsp; &nbsp;6|\n",
    "   | B            | 1&nbsp;&nbsp;2&nbsp;&nbsp;3&nbsp;&nbsp;4 &nbsp;5 &nbsp;6|\n",
    "   | C            | 1&nbsp;&nbsp;2&nbsp;&nbsp;3&nbsp;&nbsp;4  &nbsp;5 &nbsp;6|\n",
    "   | K            | 1&nbsp;&nbsp;2&nbsp;&nbsp;3&nbsp;&nbsp;4  &nbsp;5 &nbsp;6|\n",
    "   | I            | 1&nbsp;&nbsp;2&nbsp;&nbsp;3&nbsp;&nbsp;4  &nbsp;5 &nbsp;6|\n",
    "   | M            | 1&nbsp;&nbsp;2&nbsp;&nbsp;3&nbsp;&nbsp;4  &nbsp;5 &nbsp;6|\n",
    "\n",
    "\n",
    "**d) Arc Consistency.** On the grid below, now cross out the values from each domain that are eliminated by running arc consistency. List each arc that leads to a value being eliminated, and specify which arcs are then added back in.\n",
    "\n",
    "\n",
    "   | **Variable** | **Domain**        |\n",
    "   |--------------|-------------------|\n",
    "   | P            | &nbsp;&nbsp;&nbsp;&nbsp;&nbsp;&nbsp; &nbsp; &nbsp;6|\n",
    "   | B            | 1&nbsp;&nbsp;2&nbsp;&nbsp;3&nbsp;&nbsp;4 &nbsp;5 &nbsp;6|\n",
    "   | C            | 1&nbsp;&nbsp;2&nbsp;&nbsp;3&nbsp;&nbsp;4  &nbsp;5 &nbsp;6|\n",
    "   | K            | 1&nbsp;&nbsp;2&nbsp;&nbsp;3&nbsp;&nbsp;4  &nbsp;5 &nbsp;6|\n",
    "   | I            | 1&nbsp;&nbsp;2&nbsp;&nbsp;3&nbsp;&nbsp;4  &nbsp;5 &nbsp;6|\n",
    "   | M            | 1&nbsp;&nbsp;2&nbsp;&nbsp;3&nbsp;&nbsp;4  &nbsp;5 &nbsp;6|\n",
    "\n",
    "\n",
    "**e) MRV.** According to the Minimum Remaining Value (MRV) heuristic, which variable should be as- signed to first? Explain your answer.\n",
    "\n",
    "\n",
    "**f) LCR.** According to the Least Constraining Value (LCR) heuristic, which value of the variable identi- fied above (MRV) should be chosen first? Explain your answer.\n",
    "\n",
    "\n",
    "**g) Iterative Improvement.** Instead of running backtracking search, you decide to start over and run iterative improvement with the **min-conflicts heuristic** for value selection. Starting with the following assignment:\n",
    "\n",
    "$P:6$, $B:4$, $C:3$, $K:2$, $I:1$, $M:5$\n",
    "\n",
    "First, for each variable write down how many constraints it violates in the table below.\n",
    "Then, in the following table, for all variables that could be selected for assignment, put an x in any box that corresponds to a possible value that could be assigned to that variable according to min-conflicts. When marking next values a variable could take on, only mark values different from the current one.\n",
    "\n",
    "| Variable | # violated |\n",
    "|----------|------------|\n",
    "| P        |            |\n",
    "| B        |            |\n",
    "| C        |            |\n",
    "| K        |            |\n",
    "| I        |            |\n",
    "| M        |            |\n",
    "\n",
    "&nbsp;  \n",
    "\n",
    "|   | 1  | 2  | 3  | 4  | 5  | 6  |\n",
    "|---|----|----|----|----|----|----|\n",
    "| P |    |    |    |    |    |    |\n",
    "| B |    |    |    |    |    |    |\n",
    "| C |    |    |    |    |    |    |\n",
    "| K |    |    |    |    |    |    |\n",
    "| I |    |    |    |    |    |    |\n",
    "| M |    |    |    |    |    |    |\n"
   ]
  },
  {
   "cell_type": "markdown",
   "metadata": {
    "id": "oeJMt0KAPzUu"
   },
   "source": [
    "<h1 align=\"left\"> <font color='darkblue'> <b>Part II: Implement a CSP from Scratch </b></font></a></h1>  \n",
    "\n",
    "In this part, we explore the fundamentals of map coloring as a primer to understanding the basic concepts and techniques underpinning Constraint Satisfaction Problems (CSPs). We start by defining the CSP class.\n"
   ]
  },
  {
   "cell_type": "code",
   "execution_count": 1,
   "metadata": {
    "id": "-IPUFeQoPzUv"
   },
   "outputs": [],
   "source": [
    "# Import standard librairies\n",
    "import sys\n",
    "import copy\n",
    "\n",
    "\n",
    "# Hide warnings in the matplotlib sections\n",
    "import warnings\n",
    "warnings.filterwarnings(\"ignore\")"
   ]
  },
  {
   "cell_type": "markdown",
   "metadata": {
    "id": "r0bIc9S7VsXT"
   },
   "source": [
    "## **II.1. CSP class**"
   ]
  },
  {
   "cell_type": "markdown",
   "metadata": {
    "id": "aN_XYFbfPzUx"
   },
   "source": [
    "Below is an example of Python code that implements a Constraint Satisfaction Problem class using a basic backtracking search algorithm."
   ]
  },
  {
   "cell_type": "code",
   "execution_count": 2,
   "metadata": {
    "id": "gjyuPvoi5DvT"
   },
   "outputs": [],
   "source": [
    "import time\n",
    "class CSP:\n",
    "    \"\"\"This class describes finite-domain Constraint Satisfaction Problems.\n",
    "    A CSP is specified by the following three inputs:\n",
    "      - vars        A list of variables; each is atomic (e.g. int or string).\n",
    "      - domains     A dict of {var:[possible_value, ...]} entries.\n",
    "      - neighbors   A dict of {var:[var,...]} that for each variable lists\n",
    "                      the other variables that participate in constraints.\n",
    "      - constraints A function f(A, a, B, b) that returns true if neighbors\n",
    "                      A, B satisfy the constraint when they have values A=a, B=b\n",
    "    \"\"\"\n",
    "\n",
    "    def __init__(self, variables, domains, neighbours, constraints):\n",
    "        \"\"\" Construct a CSP problem.\"\"\"\n",
    "        self.variables = variables\n",
    "        self.domains = domains\n",
    "        self.neighbours = neighbours\n",
    "        self.constraints = constraints\n",
    "\n",
    "        # Some performance metrics\n",
    "        self.node_expansions = 0\n",
    "        self.number_of_backtracks = 0\n",
    "        self.pruned_values = 0\n",
    "        self.number_of_constraint_checks = 0\n",
    "        #-----\n",
    "        self.start_time = None\n",
    "        self.end_time = None\n",
    "\n",
    "    def backtracking_search(self):\n",
    "        \"\"\"Set up to do recursive backtracking search.\"\"\"\n",
    "        self.start_time = time.time()  # Start the timer\n",
    "        result = self.recursive_backtracking({})\n",
    "        self.end_time = time.time()    # End the timer\n",
    "        return result\n",
    "\n",
    "    def recursive_backtracking(self, assignment):\n",
    "        \"\"\"Search for a consistent assignment for the csp.\n",
    "        Each recursive call chooses a variable, and considers values for it.\"\"\"\n",
    "\n",
    "\n",
    "\n",
    "        if self.is_complete(assignment):\n",
    "            return assignment\n",
    "\n",
    "        var = self.select_unassigned_variable(assignment)\n",
    "\n",
    "        for value in self.order_domain_values(var, assignment):\n",
    "            if self.is_consistent(var, value, assignment):\n",
    "                self.node_expansions += 1\n",
    "                assignment[var] = value\n",
    "                result = self.recursive_backtracking(assignment)\n",
    "\n",
    "                if result != None:\n",
    "                    return result\n",
    "                del assignment[var]\n",
    "                self.number_of_backtracks += 1\n",
    "\n",
    "        return None\n",
    "\n",
    "    def select_unassigned_variable(self, assignment):\n",
    "        \"Select the variable to work on next.\"\n",
    "        for variable in self.variables:\n",
    "            if variable not in assignment:\n",
    "                return variable\n",
    "\n",
    "    def is_complete(self, assignment):\n",
    "        \"Check if all variables are assigned\"\n",
    "        for variable in self.variables:\n",
    "            if variable not in assignment:\n",
    "                return False\n",
    "        return True\n",
    "\n",
    "    def order_domain_values(self, variable, assignment):\n",
    "        \"Decide what order to consider the domain variables.\"\n",
    "        all_values = self.domains[variable][:]\n",
    "        return all_values\n",
    "\n",
    "    def is_consistent(self, variable, value, assignment):\n",
    "\n",
    "        if not assignment:\n",
    "            return True\n",
    "\n",
    "        for constraint in self.constraints.values():\n",
    "            for neighbour in self.neighbours[variable]:\n",
    "                self.number_of_constraint_checks += 1\n",
    "                if neighbour not in assignment:\n",
    "                    continue\n",
    "\n",
    "                neighbour_value = assignment[neighbour]\n",
    "                if not constraint(variable, value, neighbour, neighbour_value):\n",
    "                    self.pruned_values += 1  # Increment pruned values if inconsistency is found\n",
    "                    return False\n",
    "        return True\n",
    "\n",
    "    def display_performance(self):\n",
    "        \"\"\"Display the performance of the CSP solver.\"\"\"\n",
    "        print(\"Time taken: {:.4f} seconds\".format(self.end_time - self.start_time))\n",
    "        print(\"Node expansions: {}\".format(self.node_expansions))\n",
    "        print(\"Number of Backtracks: {}\".format(self.number_of_backtracks))\n",
    "        print(\"Number of Constraint Checks: {}\".format(self.number_of_constraint_checks))\n",
    "        print(\"Pruned values: {}\".format(self.pruned_values))"
   ]
  },
  {
   "cell_type": "markdown",
   "metadata": {
    "id": "dIFi091X6DMG"
   },
   "source": [
    "## **II.2. Solve the South America Map coloring problem using the CSP approach**\n",
    "\n",
    "\n",
    "Consider solving the map coloring problem for [South America](https://www.mapchart.net/americas.html) by applying the CSP framework. The problem is defined as follow:"
   ]
  },
  {
   "cell_type": "code",
   "execution_count": 3,
   "metadata": {
    "colab": {
     "base_uri": "https://localhost:8080/"
    },
    "id": "WwW12gc64J5z",
    "outputId": "7338e3fb-c4a3-4a20-97bc-e8ec5dfd31f6"
   },
   "outputs": [
    {
     "ename": "ModuleNotFoundError",
     "evalue": "No module named 'networkx'",
     "output_type": "error",
     "traceback": [
      "\u001b[1;31m---------------------------------------------------------------------------\u001b[0m",
      "\u001b[1;31mModuleNotFoundError\u001b[0m                       Traceback (most recent call last)",
      "Cell \u001b[1;32mIn[3], line 1\u001b[0m\n\u001b[1;32m----> 1\u001b[0m \u001b[38;5;28;01mfrom\u001b[39;00m \u001b[38;5;21;01mdisplay_map\u001b[39;00m \u001b[38;5;28;01mimport\u001b[39;00m \u001b[38;5;241m*\u001b[39m \u001b[38;5;66;03m# visualize a colored map of South America based on a CSP solution using NetworkX and Matplotlib.\u001b[39;00m\n\u001b[0;32m      2\u001b[0m \u001b[38;5;66;03m# \u001b[39;00m\n\u001b[0;32m      4\u001b[0m \u001b[38;5;28;01mdef\u001b[39;00m \u001b[38;5;21mcreate_SouthAmerica_csp\u001b[39m():\n",
      "File \u001b[1;32mc:\\Users\\AlexandreFrancony\\Downloads\\Git\\AI-Algorithm\\Lab 4\\display_map.py:2\u001b[0m\n\u001b[0;32m      1\u001b[0m \u001b[38;5;28;01mimport\u001b[39;00m \u001b[38;5;21;01mmatplotlib\u001b[39;00m\u001b[38;5;21;01m.\u001b[39;00m\u001b[38;5;21;01mpyplot\u001b[39;00m \u001b[38;5;28;01mas\u001b[39;00m \u001b[38;5;21;01mplt\u001b[39;00m\n\u001b[1;32m----> 2\u001b[0m \u001b[38;5;28;01mimport\u001b[39;00m \u001b[38;5;21;01mnetworkx\u001b[39;00m \u001b[38;5;28;01mas\u001b[39;00m \u001b[38;5;21;01mnx\u001b[39;00m\n\u001b[0;32m      4\u001b[0m \u001b[38;5;66;03m# This script visualizes the colored map of South America using NetworkX and Matplotlib,\u001b[39;00m\n\u001b[0;32m      6\u001b[0m \u001b[38;5;28;01mdef\u001b[39;00m \u001b[38;5;21mdisplay_south_america_graph\u001b[39m(result):\n\u001b[0;32m      7\u001b[0m     \u001b[38;5;66;03m# Define neighbors (same as in create_SouthAmerica_csp)\u001b[39;00m\n",
      "\u001b[1;31mModuleNotFoundError\u001b[0m: No module named 'networkx'"
     ]
    }
   ],
   "source": [
    "from display_map import * # visualize a colored map of South America based on a CSP solution using NetworkX and Matplotlib.\n",
    "# \n",
    "\n",
    "def create_SouthAmerica_csp():\n",
    "    CostaRica, Panama, Colombia, Venezuela, Guyana, Suriname, GuyaneFr, Ecuador, Peru, Brasil, Bolivia, Paraguay, Chile, Argentina, Uruguay = 'CostaRica', 'Panama', 'Colombia', 'Venezuela', 'Guyana', 'Suriname', 'GuyaneFr', 'Ecuador', 'Peru', 'Brasil', 'Bolivia', 'Paraguay', 'Chile', 'Argentina', 'Uruguay'\n",
    "    values = ['Red', 'Green', 'Blue', 'Yellow']\n",
    "\n",
    "    # Define the set of variables\n",
    "    #variables = [CostaRica, Panama, Colombia, Venezuela, Guyana, Suriname, GuyaneFr, Ecuador, Peru, Brasil, Bolivia, Paraguay, Chile, Argentina, Uruguay]\n",
    "    #variables = [Uruguay, Brasil, GuyaneFr, Bolivia, Suriname, Peru, Panama, Argentina, Guyana, Chile, CostaRica, Colombia, Ecuador, Venezuela, Paraguay]\n",
    "    variables = [Uruguay, Suriname, GuyaneFr, Panama, CostaRica, Ecuador, Guyana, Chile, Bolivia, Paraguay, Venezuela, Argentina, Peru, Colombia, Brasil]\n",
    "\n",
    "    # Define the domaine of each variable\n",
    "    domains = {\n",
    "        CostaRica: values[:],\n",
    "        Panama: values[:],\n",
    "        Colombia: values[:],\n",
    "        Venezuela: values[:],\n",
    "        Guyana: values[:],\n",
    "        Suriname: values[:],\n",
    "        GuyaneFr: values[:],\n",
    "        Ecuador: values[:],\n",
    "        Peru: values[:],\n",
    "        Brasil: values[:],\n",
    "        Bolivia: values[:],\n",
    "        Paraguay: values[:],\n",
    "        Chile: values[:],\n",
    "        Argentina: values[:],\n",
    "        Uruguay: values[:]\n",
    "    }\n",
    "    neighbours = {\n",
    "        CostaRica : [Panama],\n",
    "        Panama : [CostaRica, Colombia],\n",
    "        Colombia : [Panama, Venezuela, Ecuador, Peru, Brasil],\n",
    "        Venezuela : [Colombia, Guyana, Brasil],\n",
    "        Guyana : [Venezuela, Suriname, Brasil],\n",
    "        Suriname : [Guyana, GuyaneFr, Brasil],\n",
    "        GuyaneFr : [Suriname, Brasil],\n",
    "        Brasil : [GuyaneFr, Suriname, Guyana, Venezuela, Colombia, Peru, Bolivia, Paraguay, Argentina, Uruguay],\n",
    "        Uruguay : [Brasil, Argentina],\n",
    "        Argentina : [Uruguay, Paraguay, Chile, Bolivia],\n",
    "        Chile : [Argentina, Bolivia, Peru],\n",
    "        Bolivia : [Chile, Argentina, Paraguay, Peru],\n",
    "        Paraguay : [Bolivia, Argentina, Uruguay, Brasil],\n",
    "        Peru : [Bolivia, Chile, Brasil, Ecuador, Colombia],\n",
    "        Ecuador : [Peru, Colombia]\n",
    "    }\n",
    "\n",
    "    def constraint_function(first_variable, first_value, second_variable, second_value):\n",
    "        return first_value != second_value\n",
    "\n",
    "    # Define the set of constraints\n",
    "    constraints = {\n",
    "        CostaRica: constraint_function,\n",
    "        Panama: constraint_function,\n",
    "        Colombia: constraint_function,\n",
    "        Venezuela: constraint_function,\n",
    "        Guyana: constraint_function,\n",
    "        Suriname: constraint_function,\n",
    "        GuyaneFr: constraint_function,\n",
    "        Brasil: constraint_function,\n",
    "        Uruguay: constraint_function,\n",
    "        Argentina: constraint_function,\n",
    "        Chile: constraint_function,\n",
    "        Bolivia: constraint_function,\n",
    "        Paraguay: constraint_function,\n",
    "        Peru: constraint_function,\n",
    "        Ecuador: constraint_function\n",
    "    }\n",
    "\n",
    "    return CSP(variables, domains, neighbours, constraints)\n",
    "\n",
    "if __name__ == '__main__':\n",
    "    SouthAmerica_1 = create_SouthAmerica_csp()\n",
    "    result = SouthAmerica_1.backtracking_search()\n",
    "    if result:\n",
    "        display_south_america_graph(result)\n",
    "        #for area, color in sorted(result.items()):\n",
    "        #    print(\"{}: {}\".format(area, color))\n",
    "        print('------------------------------------------')\n",
    "        SouthAmerica_1.display_performance()\n",
    "    else:\n",
    "        print(\"No solution found\")\n",
    "    \n",
    "\n",
    "\n"
   ]
  },
  {
   "cell_type": "markdown",
   "metadata": {
    "id": "sz9xDGNW9saF"
   },
   "source": [
    "### <font color='darkred'> **Exercise 1: Understanding the CSP code** \n",
    "\n",
    "Demonstrate your understanding of the CSP code by answering the following questions:\n",
    "\n",
    "1. What is returned by `create_SouthAmerica_csp()`?\n",
    "\n",
    "2. What is returned by `backtracking_search()`?\n",
    "    \n",
    "3. What is the purpose of `assignment` variable?\n",
    "\n",
    "\n",
    "4. What is the purpose of `variable` variable?\n",
    "\n",
    "\n",
    "5. What is the purpose of the following statement?\n",
    "\n",
    "    For value in `self.order_domain_values(variable, assignment)`.\n",
    "    \n",
    "6. What would the following do?\n",
    "\n",
    "    `if self.is_consistent('Colombia', 'Red', {'Panama': 'Blue', 'Venezuela' : 'green'}):</br>\n",
    "      assignment[variable] = value` \n",
    "\n",
    "7. In this case, what would then `assignment` be? (the value of `assignment`)\n",
    "\n",
    "8. What is the effect of `del assignment[variable]` in the `recursive_backtracking` method of the CSP class?\n",
    "</font>"
   ]
  },
  {
   "cell_type": "markdown",
   "metadata": {
    "id": "Pj-zh3LwX5U6"
   },
   "source": [
    "## <font color='darkblue'> <b>II.3. Depth First Search with Backtracking++ </b></font>\n",
    "\n",
    "### **II.3.a) Variable Selection** - Minimum remaining values and Degree heuristics\n",
    "\n",
    "\n",
    "The Minimum Remaining Values (MRV) heuristic selects the variable that has the smallest number of legal values remaining in its domain. The Degree Heuristic is used to break ties when there are multiple variables with the same number of remaining values. It prefers the variable with the most constraints on remaining variables."
   ]
  },
  {
   "cell_type": "markdown",
   "metadata": {
    "id": "XmkIUZ-sbcY8"
   },
   "source": [
    "#### <font color='darkred'>**Exercise 2: Update the `select_unassigned_variable` method to include these heuristics into the CSP class.**</font>"
   ]
  },
  {
   "cell_type": "code",
   "execution_count": 4,
   "metadata": {
    "id": "68iESadedfrC"
   },
   "outputs": [],
   "source": [
    "# your code\n",
    "# ..."
   ]
  },
  {
   "cell_type": "code",
   "execution_count": null,
   "metadata": {
    "colab": {
     "base_uri": "https://localhost:8080/"
    },
    "id": "3qDTUNSqYhOj",
    "outputId": "b4b27565-f59b-450a-b9c6-d11d475705aa"
   },
   "outputs": [],
   "source": [
    "if __name__ == '__main__':\n",
    "    SouthAmerica_MRVD = create_SouthAmerica_csp()\n",
    "    result = SouthAmerica_MRVD.backtracking_search()\n",
    "    if result:\n",
    "        for area, color in sorted(result.items()):\n",
    "            print(\"{}: {}\".format(area, color))\n",
    "    else:\n",
    "        print(\"No solution found\")\n",
    "    print('------------------------------------------')\n",
    "    SouthAmerica_MRVD.display_performance()"
   ]
  },
  {
   "cell_type": "markdown",
   "metadata": {
    "id": "4cBwoBmaX1WE"
   },
   "source": [
    "<font color='darkred'>**What do we observe?**</font>"
   ]
  },
  {
   "cell_type": "markdown",
   "metadata": {
    "id": "OMOTaLLgH_oP"
   },
   "source": [
    "### **II.3.b) Domain Ordering** - Least Constraining Value\n",
    "\n",
    "The Least Constraining Value heuristic in domain ordering for CSPs chooses the next value for a variable that imposes the fewest constraints on the remaining variables. This approach seeks to maximize flexibility in subsequent assignments and minimize potential conflicts. It gives preference to values that leave the largest number of options available for other variables.\n"
   ]
  },
  {
   "cell_type": "markdown",
   "metadata": {
    "id": "oStxxpGBbl7E"
   },
   "source": [
    "#### <font color='darkred'> **Exercise 3: Enhance the CSP Class with the Least Constraining Value Heuristic Integration.** </font>"
   ]
  },
  {
   "cell_type": "markdown",
   "metadata": {
    "id": "DTow42bHJqK3"
   },
   "source": [
    "To include the heuristic of the Least Constraining Value (LCV) in the backtracking algorithm, you need to modify the order_domain_values method so that it prefers the values that rule out the fewest choices for the neighboring variables in the constraint graph.\n"
   ]
  },
  {
   "cell_type": "code",
   "execution_count": 6,
   "metadata": {
    "id": "XOEWm1CXdE2_"
   },
   "outputs": [],
   "source": [
    "# your code\n",
    "# ..."
   ]
  },
  {
   "cell_type": "code",
   "execution_count": null,
   "metadata": {
    "colab": {
     "base_uri": "https://localhost:8080/"
    },
    "id": "lz8Nk-E-Kogt",
    "outputId": "a89a1088-9cb0-4748-83a2-28eb9e925528"
   },
   "outputs": [],
   "source": [
    "if __name__ == '__main__':\n",
    "    SouthAmerica_MRVD_LCV = create_SouthAmerica_csp()\n",
    "    result = SouthAmerica_MRVD_LCV.backtracking_search()\n",
    "    if result:\n",
    "        for area, color in sorted(result.items()):\n",
    "            print(\"{}: {}\".format(area, color))\n",
    "    else:\n",
    "        print(\"No solution found\")\n",
    "    print('------------------------------------------')\n",
    "    SouthAmerica_MRVD_LCV.display_performance()"
   ]
  },
  {
   "cell_type": "markdown",
   "metadata": {
    "id": "ErTjkCM7g2xI"
   },
   "source": [
    "### **II.3.c) Backstraking search with Forward checking**\n",
    "\n",
    "Forward checking involves checking ahead when we assign a value to a variable, to see if this would leave another variable with no legal values.\n",
    "\n",
    "To integrate forward checking into the existing CSP class, we would need to enhance the recursive_backtracking method to monitor and adjust the legal values available for unassigned variables, eliminating those that conflict with the most recent assignment. Necessary modifications include:\n",
    "\n",
    "1. Introducing a `forward_check` method to reduce the domain of adjacent variables contingent upon the current variable's assignment.\n",
    "2. Refining the `recursive_backtracking` method to invoke `forward_check` subsequent to making an assignment.\n",
    "3. Restore pruned values when a backtrack occurs due to encountering a dead-end.\n",
    "\n",
    "\n",
    "1. Add a method that performs forward checking after a variable is assigned a value.\n",
    "2. Modify the recursive_backtracking method to incorporate forward checking.\n",
    "\n",
    "\n",
    "Here is the portion of code that implements forward checking.\n"
   ]
  },
  {
   "cell_type": "code",
   "execution_count": 8,
   "metadata": {
    "id": "2-ti1KFD1fZS"
   },
   "outputs": [],
   "source": [
    "\n",
    "import time\n",
    "import copy\n",
    "class CSP:\n",
    "    # ... (keep the rest of the CSP class unchanged) ...\n",
    "\n",
    "\n",
    "    def recursive_backtracking(self, assignment):\n",
    "        \"\"\"Search for a consistent assignment for the csp.\n",
    "        Each recursive call chooses a variable, and considers values for it.\"\"\"\n",
    "\n",
    "        if self.is_complete(assignment):\n",
    "            return assignment\n",
    "\n",
    "        var = self.select_unassigned_variable(assignment)\n",
    "\n",
    "        for value in self.order_domain_values(var, assignment):\n",
    "            if self.is_consistent(var, value, assignment):\n",
    "                assignment[var] = value\n",
    "                self.node_expansions += 1\n",
    "                # Perform forward checking and prune domains\n",
    "                domains_backup = copy.deepcopy(self.domains)\n",
    "                if self.forward_check(var, value, assignment):\n",
    "                    result = self.recursive_backtracking(assignment)\n",
    "                    if result is not None:\n",
    "                        return result\n",
    "\n",
    "                # If forward checking fails, or no solution is found, restore domains\n",
    "                self.domains = domains_backup\n",
    "                del assignment[var]\n",
    "                self.number_of_backtracks += 1\n",
    "        return None\n",
    "\n",
    "    def forward_check(self, var, value, assignment):\n",
    "        \"\"\"Prune domain values that are inconsistent with var=value.\"\"\"\n",
    "        for neighbor in self.neighbours[var]:\n",
    "            if neighbor not in assignment:\n",
    "                for neighbor_val in self.domains[neighbor][:]:\n",
    "                    if not self.constraints[var](var, value, neighbor, neighbor_val):\n",
    "                        self.domains[neighbor].remove(neighbor_val)\n",
    "                        self.pruned_values += 1\n",
    "                if not self.domains[neighbor]:  # If the domain is empty, there's no valid assignment\n",
    "                    return False\n",
    "        return True\n",
    "    \n",
    "    # ... (keep the rest of the CSP class unchanged) ..."
   ]
  },
  {
   "cell_type": "code",
   "execution_count": null,
   "metadata": {
    "colab": {
     "base_uri": "https://localhost:8080/"
    },
    "id": "-zZEw0rJh3Sz",
    "outputId": "dc546199-ceb6-47d3-e9df-b2cbe7f5da98"
   },
   "outputs": [],
   "source": [
    "if __name__ == '__main__':\n",
    "    SouthAmerica_MRVD_LCV_FC = create_SouthAmerica_csp()\n",
    "    result = SouthAmerica_MRVD_LCV_FC.backtracking_search()\n",
    "    if result:\n",
    "        for area, color in sorted(result.items()):\n",
    "            print(\"{}: {}\".format(area, color))\n",
    "    else:\n",
    "        print(\"No solution found\")\n",
    "    print('------------------------------------------')\n",
    "    SouthAmerica_MRVD_LCV_FC.display_performance()"
   ]
  },
  {
   "cell_type": "markdown",
   "metadata": {
    "id": "vdJQCOKMZXqX"
   },
   "source": [
    "### **II.3.d) Constraint Propagation** - Arc Consistency (AC-3)\n",
    "\n",
    "Constraint Propagation with AC-3 (Arc Consistency Algorithm #3) is an algorithm used in CSPs to reduce the search space by iteratively revising domains of variables to achieve arc consistency, ensuring that for every value in a variable's domain, there exists some consistent value in the domain of its adjacent variables.\n",
    "\n",
    "AC-3 efficiently detects inconsistencies and prunes values that cannot be part of any solution before the actual search begins, greatly simplifying the problem.\n",
    "\n",
    "\n"
   ]
  },
  {
   "cell_type": "markdown",
   "metadata": {
    "id": "reEFKyPobqNf"
   },
   "source": [
    "#### <font color='darkred'>**Exercise 4: update the backtracking search method in the CSP class to include the Arc Consistency using the \"AC-3\" algorithm.**</font>"
   ]
  },
  {
   "cell_type": "code",
   "execution_count": 11,
   "metadata": {
    "id": "9O1Xrckje5u_"
   },
   "outputs": [],
   "source": [
    "# your code\n",
    "# ..."
   ]
  },
  {
   "cell_type": "code",
   "execution_count": null,
   "metadata": {
    "colab": {
     "base_uri": "https://localhost:8080/"
    },
    "id": "zHgiNc6sg1ra",
    "outputId": "46c2f33b-7744-4981-b532-5b74d24d1f86"
   },
   "outputs": [],
   "source": [
    "if __name__ == '__main__':\n",
    "    SouthAmerica_MRVD_LCV_FC_AC3 = create_SouthAmerica_csp()\n",
    "    result = SouthAmerica_MRVD_LCV_FC_AC3.backtracking_search()\n",
    "    if result:\n",
    "        for area, color in sorted(result.items()):\n",
    "            print(\"{}: {}\".format(area, color))\n",
    "    else:\n",
    "        print(\"No solution found\")\n",
    "    print('------------------------------------------')\n",
    "    SouthAmerica_MRVD_LCV_FC_AC3.display_performance()"
   ]
  },
  {
   "cell_type": "markdown",
   "metadata": {
    "id": "lszSEWUueQM7"
   },
   "source": [
    "### **I.4. Min-conflicts with Hill-climbing search for CSPs**\n",
    "\n",
    "The Min-conflicts algorithm is a heuristic for solving CSPs using a local search strategy. It works by choosing a random conflicted variable and then greedily assigning it the value that minimizes the number of conflicts. The Min-conflicts algorithm can be a good alternative to backtracking search when the search space is large and the solutions are dense."
   ]
  },
  {
   "cell_type": "markdown",
   "metadata": {
    "id": "suOJPQrdcEBi"
   },
   "source": [
    "#### <font color='darkred'>**Exercise 5: Propose an implementation that applies the CSP framework along with the Min-Conflicts hill-climbing search strategy to solve the South America map-coloring problem.**</font>"
   ]
  },
  {
   "cell_type": "code",
   "execution_count": 20,
   "metadata": {
    "id": "syhp2ylV5JyM"
   },
   "outputs": [],
   "source": [
    "# your code here\n",
    "# ..."
   ]
  },
  {
   "cell_type": "code",
   "execution_count": null,
   "metadata": {
    "colab": {
     "base_uri": "https://localhost:8080/"
    },
    "id": "vORTG9rl5LYD",
    "outputId": "f72839c9-0ae0-4d22-8d8a-ef1173d72e5c"
   },
   "outputs": [],
   "source": [
    "if __name__ == '__main__':\n",
    "    SouthAmerica_MinC_HC = create_SouthAmerica_csp()\n",
    "    result = SouthAmerica_MinC_HC.min_conflicts()\n",
    "    if result:\n",
    "        for area, color in sorted(result.items()):\n",
    "            print(\"{}: {}\".format(area, color))\n",
    "    else:\n",
    "        print(\"No solution found\")\n",
    "    print('-------------------------------------')\n",
    "    SouthAmerica_MinC_HC.display_performance()"
   ]
  },
  {
   "cell_type": "markdown",
   "metadata": {
    "id": "yN5L4zuHPzVK"
   },
   "source": [
    "# <font color='darkblue'> <b> Part III. Python libraries for solving CSPs</b> </font>\n",
    "\n",
    "Python offers a range of libraries designed to solve Constraint Satisfaction Problems, each boasting unique features and capabilities. Examples include `python-constraint`, `PuLP`, `MiniZinc`, and `OR-Tools`, among others. In this section, we will specifically explore the capabilities and functionalities of OR-Tools.\n",
    "\n"
   ]
  },
  {
   "cell_type": "markdown",
   "metadata": {
    "id": "wxpjdDfTckwE"
   },
   "source": [
    "## **III.1. Or-tools Library**\n",
    "\n",
    "The [OR-Tools (Operations Research Tools)](https://developers.google.com/optimization/cp/cp_solver?hl=en) library developed by Google is a powerful toolkit for solving combinatorial optimization problems, including Constraint Satisfaction Problems (CSPs). OR-Tools features the CP-SAT solver — a constraint programming solver powered by a SAT solver backend. This solver typically outperforms traditional CSP solvers in speed and capability, handling larger and more intricate problems with greater efficiency. It accommodates an extensive array of [constraints](https://developers.google.com/optimization/reference/python/sat/python/cp_model), such as all-different, linear, and scheduling constraints, making it a versatile choice for complex industry-grade and research problems."
   ]
  },
  {
   "cell_type": "markdown",
   "metadata": {
    "id": "1DqnSM3ycnuy"
   },
   "source": [
    "## **III.2.  Example: Solving a Sudoku Puzzle with OR-Tools**\n",
    "Let's consider a simple constraint satisfaction problem: a Sudoku puzzle. Sudoku is a classic example of a CSP, where the task is to fill a 9x9 grid with digits so that each column, each row, and each of the nine 3x3 subgrids that compose the grid contain all of the digits from 1 to 9 without repetition.\n",
    "This requires the fulfillment of all constraints concurrently. Below is a guided example of employing Google's OR-Tools library to find a solution to a Sudoku puzzle:\n"
   ]
  },
  {
   "cell_type": "code",
   "execution_count": 15,
   "metadata": {
    "id": "GWebtv-HxJhw"
   },
   "outputs": [],
   "source": [
    "# First install OR-Tools. You need to have the OR-Tools package installed. You can install it using pip\n",
    "# pip install ortools"
   ]
  },
  {
   "cell_type": "code",
   "execution_count": null,
   "metadata": {},
   "outputs": [],
   "source": [
    "# Import the CP-SAT solver from OR-Tools.\n",
    "from ortools.sat.python import cp_model\n",
    "\n",
    "# Define the initial Sudoku grid with 0 representing empty cells.\n",
    "grid = [\n",
    "    [5, 3, 0, 0, 7, 0, 0, 0, 0],\n",
    "    [6, 0, 0, 1, 9, 5, 0, 0, 0],\n",
    "    [0, 9, 8, 0, 0, 0, 0, 6, 0],\n",
    "    [8, 0, 0, 0, 6, 0, 0, 0, 3],\n",
    "    [4, 0, 0, 8, 0, 3, 0, 0, 1],\n",
    "    [7, 0, 0, 0, 2, 0, 0, 0, 6],\n",
    "    [0, 6, 0, 0, 0, 0, 2, 8, 0],\n",
    "    [0, 0, 0, 4, 1, 9, 0, 0, 5],\n",
    "    [0, 0, 0, 0, 8, 0, 0, 7, 9]\n",
    "]\n",
    "\n",
    "# Print the initial Sudoku grid to the console.\n",
    "for i in range(9):\n",
    "    if i % 3 == 0 and i != 0:\n",
    "        # Print a separator line after every three lines for better readability.\n",
    "        print(\"- - - - - - - - - - - \")\n",
    "    for j in range(9):\n",
    "        if j % 3 == 0 and j != 0:\n",
    "            # Print a vertical separator after every three numbers for readability.\n",
    "            print(\" | \", end=\"\")\n",
    "        # Print each number in the grid.\n",
    "        print(grid[i][j], end=\" \")\n",
    "    print()\n",
    "\n",
    "# Start the process of computing a solution throught CSP approach\n",
    "print(\"\\n\\n------ Solution found through CSP approach and ortools library -----\\n\\n\")\n",
    "\n",
    "# Create a new model for our CSP.\n",
    "model = cp_model.CpModel()\n",
    "\n",
    "# Create a dictionary to hold the CSP variables for each cell in the Sudoku grid.\n",
    "sudoku = {}\n",
    "for i in range(9):\n",
    "    for j in range(9):\n",
    "        # If the cell is initially empty, its domain is 1-9; otherwise, it is a fixed value.\n",
    "        if grid[i][j] == 0:\n",
    "            sudoku[i, j] = model.NewIntVar(1, 9, f'cell_{i}_{j}')\n",
    "        else:\n",
    "            sudoku[i, j] = model.NewIntVar(grid[i][j], grid[i][j], f'cell_{i}_{j}')\n",
    "\n",
    "# Add the constraints that all numbers in each row/column must be different.\n",
    "for i in range(9):\n",
    "    model.AddAllDifferent([sudoku[i, j] for j in range(9)])\n",
    "    model.AddAllDifferent([sudoku[j, i] for j in range(9)])\n",
    "\n",
    "# Add the constraint that all numbers in each 3x3 sub-grid must be different.\n",
    "for i in range(0, 9, 3):\n",
    "    for j in range(0, 9, 3):\n",
    "        cells = []\n",
    "        for di in range(3):\n",
    "            for dj in range(3):\n",
    "                cells.append(sudoku[i + di, j + dj])\n",
    "        model.AddAllDifferent(cells)\n",
    "\n",
    "# Create a solver instance and solve the model.\n",
    "solver = cp_model.CpSolver()\n",
    "status = solver.Solve(model)\n",
    "\n",
    "# Print the solved Sudoku grid to the console.\n",
    "if status in (cp_model.OPTIMAL, cp_model.FEASIBLE):\n",
    "    for i in range(9):\n",
    "        if i % 3 == 0 and i != 0:\n",
    "            # Print a separator line for better readability of the grid.\n",
    "            print(\"- - - - - - - - - - - -\")\n",
    "        for j in range(9):\n",
    "            if j % 3 == 0 and j != 0:\n",
    "                # Print a vertical separator within the grid.\n",
    "                print(\" | \", end=\"\")\n",
    "            # Print the value of each cell in the grid.\n",
    "            print(solver.Value(sudoku[i, j]), end=\" \")\n",
    "        print()\n",
    "else:\n",
    "    # Notify if no solution was found for the given Sudoku puzzle.\n",
    "    print(\"No solution found.\")"
   ]
  },
  {
   "cell_type": "markdown",
   "metadata": {
    "id": "o6fSIAvl_-gR",
    "tags": []
   },
   "source": [
    "## <font color='darkred'>**III.3. Exercice 6: Solve Pacman's new house problem using OR-Tools**\n",
    "\n",
    "* **Exercise Steps:**\n",
    "\n",
    "    1.\tUse OR-Tools to solve the Pacman's new house problem described in Part I of this notebook.\n",
    "\t2.\tVerify if the solution is consistent with the hand-solved results.\n",
    "</font>"
   ]
  },
  {
   "cell_type": "code",
   "execution_count": null,
   "metadata": {},
   "outputs": [],
   "source": [
    "# Your code here\n",
    "# ..."
   ]
  }
 ],
 "metadata": {
  "colab": {
   "provenance": [],
   "toc_visible": true
  },
  "kernelspec": {
   "display_name": "Python 3",
   "language": "python",
   "name": "python3"
  },
  "language_info": {
   "codemirror_mode": {
    "name": "ipython",
    "version": 3
   },
   "file_extension": ".py",
   "mimetype": "text/x-python",
   "name": "python",
   "nbconvert_exporter": "python",
   "pygments_lexer": "ipython3",
   "version": "3.12.0"
  },
  "toc-autonumbering": false,
  "toc-showtags": false
 },
 "nbformat": 4,
 "nbformat_minor": 4
}
