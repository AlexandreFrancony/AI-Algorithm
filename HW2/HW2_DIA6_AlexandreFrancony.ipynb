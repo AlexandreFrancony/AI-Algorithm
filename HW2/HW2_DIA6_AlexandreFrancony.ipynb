{
 "cells": [
  {
   "cell_type": "markdown",
   "metadata": {},
   "source": [
    "# AI algorithms : HW2\n",
    "\n",
    "## Alexandre Francony\n",
    "\n",
    "### Exercise 1\n",
    "I chose to split the whole work into distinct steps for my code to be more readable and easier to understand.<br>\n",
    "Step 0: import the necessary libraries"
   ]
  },
  {
   "cell_type": "code",
   "execution_count": null,
   "metadata": {},
   "outputs": [],
   "source": [
    "import pandas as pd\n",
    "import numpy as np\n",
    "import matplotlib.pyplot as plt\n",
    "from collections import defaultdict"
   ]
  },
  {
   "cell_type": "markdown",
   "metadata": {},
   "source": [
    "Step 1: Data Input, load item data (weights and values) from 'items.csv'."
   ]
  },
  {
   "cell_type": "code",
   "execution_count": 109,
   "metadata": {},
   "outputs": [
    {
     "name": "stdout",
     "output_type": "stream",
     "text": [
      "   value  weight\n",
      "0    140      11\n",
      "1    142      38\n",
      "2     60      22\n",
      "3    107      37\n",
      "4    131      28\n"
     ]
    }
   ],
   "source": [
    "items = pd.read_csv('items.csv', sep=';')\n",
    "print(items.head())"
   ]
  },
  {
   "cell_type": "markdown",
   "metadata": {},
   "source": [
    "Step 2: Genetic Algorithm Initialization, Initialize the parameters for the GA, including the population size, mutation rate, and number of generations.<br>\n",
    "We set GA parameters that will influence the evolution process. The data from the CSV is converted into numpy arrays for easier manipulation."
   ]
  },
  {
   "cell_type": "code",
   "execution_count": null,
   "metadata": {},
   "outputs": [],
   "source": [
    "# GA parameters\n",
    "population_size = 200\n",
    "mutation_rate = 0.2 \n",
    "generations = 100\n",
    "elite_size = 10\n",
    "\n",
    "# Extract weights and values from the dataset\n",
    "weights = items['weight'].to_numpy()\n",
    "values = items['value'].to_numpy()\n",
    "\n",
    "# Maximum weight capacity of the knapsack\n",
    "max_weight_capacity = 10000  "
   ]
  },
  {
   "cell_type": "markdown",
   "metadata": {},
   "source": [
    "Step 3: define the initial population, which will be an array of potential solutions.<br>\n",
    "Each individual in the population is represented as a binary array indicating which items are included in the knapsack. '1' means the item is included, while '0' means it is not."
   ]
  },
  {
   "cell_type": "code",
   "execution_count": null,
   "metadata": {},
   "outputs": [],
   "source": [
    "def initialize_population(population_size, num_items):\n",
    "    population = []\n",
    "    for _ in range(population_size):\n",
    "        individual = np.random.randint(2, size=num_items)\n",
    "        while np.sum(individual * weights) > max_weight_capacity:\n",
    "            individual[np.random.choice(np.where(individual == 1)[0])] = 0\n",
    "        population.append(individual)\n",
    "    return np.array(population)\n",
    "\n",
    "population = initialize_population(population_size, len(items))"
   ]
  },
  {
   "cell_type": "markdown",
   "metadata": {},
   "source": [
    "Step 4: Fitness Function Definition which evaluates the total value of items selected without exceeding the weight capacity.<br>\n",
    "The fitness function calculates the total value of items selected, but returns 0 if the total weight exceeds the allowed capacity. This encourages solutions within the weight limit."
   ]
  },
  {
   "cell_type": "code",
   "execution_count": null,
   "metadata": {},
   "outputs": [],
   "source": [
    "def fitness(individual, weights, values, max_weight_capacity):\n",
    "    total_weight = np.sum(individual * weights)\n",
    "    total_value = np.sum(individual * values)\n",
    "\n",
    "    if total_weight > max_weight_capacity:\n",
    "        penalty = (total_weight - max_weight_capacity) * 0.1  # Penalty proportional to excess weight\n",
    "        return max(0, total_value - penalty)\n",
    "    else:\n",
    "        return total_value\n"
   ]
  },
  {
   "cell_type": "markdown",
   "metadata": {},
   "source": [
    "Step 5: Implement Selection, Crossover, and Mutation<br>\n",
    "- Selection uses a mix of elitism and roulette-wheel selection.\n",
    "- Crossover uses a two-point crossover strategy to combine two parents.\n",
    "- Mutation applies a random flip to each bit in an individual based on the mutation rate.\n"
   ]
  },
  {
   "cell_type": "code",
   "execution_count": 113,
   "metadata": {},
   "outputs": [],
   "source": [
    "def selection(population, fitnesses, elite_size):\n",
    "    # Select the top 'elite_size' individuals automatically\n",
    "    selected_indices = np.argsort(fitnesses)[-elite_size:]\n",
    "    selected_population = population[selected_indices]\n",
    "\n",
    "    # Fill the rest with a probabilistic selection based on fitness\n",
    "    total_fitness = np.sum(fitnesses)\n",
    "\n",
    "    # Handle case where all fitness values are zero\n",
    "    if total_fitness == 0:\n",
    "        # If all fitnesses are zero, select randomly\n",
    "        probabilities = np.ones(len(population)) / len(population)\n",
    "    else:\n",
    "        # Normal case: calculate probabilities proportional to fitness\n",
    "        probabilities = fitnesses / total_fitness\n",
    "\n",
    "    chosen_indices = np.random.choice(len(population), size=(population_size - elite_size), p=probabilities)\n",
    "    selected_population = np.vstack((selected_population, population[chosen_indices]))\n",
    "\n",
    "    return selected_population\n",
    "\n",
    "\n",
    "def crossover(parent1, parent2):\n",
    "    # Two-point crossover\n",
    "    point1, point2 = sorted(np.random.choice(len(parent1), 2, replace=False))\n",
    "    offspring = np.concatenate((parent1[:point1], parent2[point1:point2], parent1[point2:]))\n",
    "    return offspring\n",
    "\n",
    "def mutate(individual, mutation_rate):\n",
    "    for i in range(len(individual)):\n",
    "        if np.random.rand() < mutation_rate:\n",
    "            # Flip the gene\n",
    "            individual[i] = 1 - individual[i]\n",
    "\n",
    "            # Ensure new individual still respects weight constraint\n",
    "            if np.sum(individual * weights) > max_weight_capacity:\n",
    "                individual[i] = 1  # Revert if adding this gene exceeds capacity\n",
    "    return individual\n",
    "\n",
    "def adaptive_mutation_rate(fitness_history):\n",
    "    if len(fitness_history) > 10 and fitness_history[-10] == fitness_history[-1]:\n",
    "        # If no improvement in the last 10 generations, increase mutation rate\n",
    "        return min(1.0, mutation_rate * 1.5)\n",
    "    return mutation_rate\n"
   ]
  },
  {
   "cell_type": "markdown",
   "metadata": {},
   "source": [
    "Step 6: Run the GA for a fixed number of generations."
   ]
  },
  {
   "cell_type": "code",
   "execution_count": 114,
   "metadata": {},
   "outputs": [],
   "source": [
    "fitness_history = []\n",
    "\n",
    "# for generation in range(generations):\n",
    "#     # Calculate fitness for the population\n",
    "#     fitnesses = np.array([fitness(ind, weights, values, max_weight_capacity) for ind in population])\n",
    "\n",
    "#     # Selection\n",
    "#     population = selection(population, fitnesses, elite_size)\n",
    "\n",
    "#     # Crossover\n",
    "#     new_population = []\n",
    "#     for i in range(0, population_size, 2):\n",
    "#         parent1, parent2 = population[i], population[i + 1]\n",
    "#         offspring1, offspring2 = crossover(parent1, parent2), crossover(parent2, parent1)\n",
    "#         new_population.append(offspring1)\n",
    "#         new_population.append(offspring2)\n",
    "\n",
    "#     # Update mutation rate adaptively\n",
    "#     mutation_rate = adaptive_mutation_rate(fitness_history)\n",
    "\n",
    "#     # Mutation\n",
    "#     population = np.array([mutate(ind, mutation_rate) for ind in new_population])\n",
    "\n",
    "#     # Track the best solution\n",
    "#     best_fitness = np.max(fitnesses)\n",
    "#     fitness_history.append(best_fitness)\n",
    "#     fitness_history.append(best_fitness)\n",
    "#     print(f\"Generation {generation+1}: Best Fitness = {best_fitness}\")\n"
   ]
  },
  {
   "cell_type": "markdown",
   "metadata": {},
   "source": [
    "Step 7: Output the best solution and plot the evolution of fitness over generations.<br>\n"
   ]
  },
  {
   "cell_type": "code",
   "execution_count": 115,
   "metadata": {},
   "outputs": [
    {
     "data": {
      "image/png": "[encoded data removed]",
      "text/plain": [
       "<Figure size 640x480 with 1 Axes>"
      ]
     },
     "metadata": {},
     "output_type": "display_data"
    }
   ],
   "source": [
    "plt.plot(fitness_history)\n",
    "plt.xlabel('Generation')\n",
    "plt.ylabel('Best Fitness')\n",
    "plt.title('Fitness Evolution Over Generations')\n",
    "plt.show()"
   ]
  },
  {
   "cell_type": "markdown",
   "metadata": {},
   "source": [
    "### Exercise 2\n",
    "\n",
    "Step 1: We define the input in a readable format. This includes the row and column constraints, fleet constraints (number of each ship type), and the initial grid layout."
   ]
  },
  {
   "cell_type": "code",
   "execution_count": 116,
   "metadata": {},
   "outputs": [],
   "source": [
    "# Sample input format, replace with actual input later\n",
    "row_constraints = [2, 2, 1, 2, 1, 2]\n",
    "column_constraints = [4, 0, 1, 3, 1, 1]\n",
    "fleet_constraints = {\n",
    "    \"submarine\": 3,\n",
    "    \"destroyer\": 2,\n",
    "    \"cruiser\": 1,\n",
    "    \"battleship\": 0\n",
    "}\n",
    "\n",
    "# Initial grid layout (0 represents no hints)\n",
    "initial_grid = [\n",
    "    ['0', '0', 'M', '0', '0', '0'],\n",
    "    ['0', '0', '0', '0', '0', '0'],\n",
    "    ['0', '0', '0', '0', '0', '0'],\n",
    "    ['0', '0', '0', '0', '0', '0'],\n",
    "    ['0', '0', '0', '0', '0', '0'],\n",
    "    ['0', '0', '0', '0', '0', '0'],\n",
    "]\n",
    "initial_grid = np.array(initial_grid)\n"
   ]
  },
  {
   "cell_type": "markdown",
   "metadata": {},
   "source": [
    "Step 2: Formulate the problem as a CSP with variables and domains. Each grid cell is a variable with possible values representing water or a part of a ship."
   ]
  },
  {
   "cell_type": "code",
   "execution_count": 117,
   "metadata": {},
   "outputs": [],
   "source": [
    "# Variables: each cell in the grid (i, j)\n",
    "grid_size = 6\n",
    "variables = [(i, j) for i in range(grid_size) for j in range(grid_size)]\n",
    "\n",
    "# Domain: possible values for each cell\n",
    "domain = {\n",
    "    '0': \"Empty water\",\n",
    "    'S': \"Submarine\",\n",
    "    'M': \"Middle of a ship\",\n",
    "    '<': \"Left end of a horizontal ship\",\n",
    "    '>': \"Right end of a horizontal ship\",\n",
    "    '^': \"Top end of a vertical ship\",\n",
    "    'v': \"Bottom end of a vertical ship\",\n",
    "}\n",
    "cell_domains = {var: list(domain.keys()) for var in variables}\n",
    "\n",
    "# Set up the domains based on the initial grid (reduce domains where a specific value is given)\n",
    "for i in range(grid_size):\n",
    "    for j in range(grid_size):\n",
    "        if initial_grid[i, j] != '0':  # Cell has a given value\n",
    "            cell_domains[(i, j)] = [initial_grid[i, j]]\n"
   ]
  },
  {
   "cell_type": "markdown",
   "metadata": {},
   "source": [
    "Step 3: Add constraints to enforce the fleet, row/column requirements, and the placement rules for ships."
   ]
  },
  {
   "cell_type": "code",
   "execution_count": 118,
   "metadata": {},
   "outputs": [],
   "source": [
    "# Constraint: row and column sums\n",
    "def row_column_constraints(assignment, row_constraints, column_constraints):\n",
    "    for i in range(grid_size):\n",
    "        for j in range(grid_size):\n",
    "            if initial_grid[i, j] != '0':\n",
    "                cell_domains[(i, j)] = [initial_grid[i, j]]\n",
    "            else:\n",
    "                cell_domains[(i, j)] = list(domain.keys()) \n",
    "\n",
    "\n",
    "    return True\n",
    "\n",
    "# Constraint: no touching ships\n",
    "def no_touching_ships(assignment):\n",
    "    for (i, j), value in assignment.items():\n",
    "        if value != '0' and value != '.':\n",
    "            neighbors = [\n",
    "                (i-1, j-1), (i-1, j), (i-1, j+1),\n",
    "                (i, j-1), (i, j+1),\n",
    "                (i+1, j-1), (i+1, j), (i+1, j+1)\n",
    "            ]\n",
    "            for ni, nj in neighbors:\n",
    "                if 0 <= ni < grid_size and 0 <= nj < grid_size:\n",
    "                    if assignment.get((ni, nj), '0') not in ['0', '.']:\n",
    "                        return False\n",
    "    return True\n",
    "\n",
    "# Constraint: fleet count\n",
    "def fleet_constraints_satisfied(assignment, fleet_constraints):\n",
    "    counts = defaultdict(int)\n",
    "    for value in assignment.values():\n",
    "        if value in ['S', '<', '>', '^', 'v', 'M']:\n",
    "            counts[value] += 1\n",
    "    # Check against fleet constraints\n",
    "    for ship, count in fleet_constraints.items():\n",
    "        if ship == \"submarine\" and counts['S'] != count:\n",
    "            return False\n",
    "        elif ship == \"destroyer\" and counts['M'] // 2 != count:\n",
    "            return False\n",
    "        elif ship == \"cruiser\" and counts['M'] // 3 != count:\n",
    "            return False\n",
    "        elif ship == \"battleship\" and counts['M'] // 4 != count:\n",
    "            return False\n",
    "    return True\n",
    "\n",
    "def select_unassigned_variable(assignment, cell_domains):\n",
    "    # Choose the variable with the fewest remaining values\n",
    "    unassigned_variables = [v for v in variables if v not in assignment]\n",
    "    return min(unassigned_variables, key=lambda var: len(cell_domains[var]))\n"
   ]
  },
  {
   "cell_type": "markdown",
   "metadata": {},
   "source": [
    "Step 4: Implement a backtracking solver that attempts to solve the puzzle using these constraints."
   ]
  },
  {
   "cell_type": "code",
   "execution_count": 123,
   "metadata": {},
   "outputs": [
    {
     "name": "stdout",
     "output_type": "stream",
     "text": [
      "No solution found.\n"
     ]
    }
   ],
   "source": [
    "def backtracking_search(assignment):\n",
    "    # Check if assignment is complete\n",
    "    if len(assignment) == len(variables):\n",
    "        return assignment\n",
    "\n",
    "    # Select an unassigned variable\n",
    "    var = select_unassigned_variable(assignment, cell_domains)\n",
    "\n",
    "    # Iterate over domain values\n",
    "    for value in cell_domains[var]:\n",
    "        # Create a new assignment\n",
    "        local_assignment = assignment.copy()\n",
    "        local_assignment[var] = value\n",
    "\n",
    "        # Check constraints\n",
    "        if (row_column_constraints(local_assignment, row_constraints, column_constraints) and\n",
    "            no_touching_ships(local_assignment) and\n",
    "            fleet_constraints_satisfied(local_assignment, fleet_constraints)):\n",
    "            \n",
    "            result = backtracking_search(local_assignment)\n",
    "            if result is not None:\n",
    "                return result\n",
    "\n",
    "    return None\n",
    "\n",
    "# Start with an empty assignment\n",
    "initial_assignment = {}\n",
    "solution = backtracking_search(initial_assignment)\n",
    "if solution:\n",
    "    print(\"Solution found:\")\n",
    "    for i in range(grid_size):\n",
    "        print(''.join(solution.get((i, j), '.') for j in range(grid_size)))\n",
    "else:\n",
    "    print(\"No solution found.\")\n"
   ]
  }
 ],
 "metadata": {
  "kernelspec": {
   "display_name": "Python 3",
   "language": "python",
   "name": "python3"
  },
  "language_info": {
   "codemirror_mode": {
    "name": "ipython",
    "version": 3
   },
   "file_extension": ".py",
   "mimetype": "text/x-python",
   "name": "python",
   "nbconvert_exporter": "python",
   "pygments_lexer": "ipython3",
   "version": "3.12.1"
  }
 },
 "nbformat": 4,
 "nbformat_minor": 2
}
